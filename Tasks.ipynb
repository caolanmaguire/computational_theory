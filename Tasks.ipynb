{
 "cells": [
  {
   "cell_type": "markdown",
   "id": "9e27de17",
   "metadata": {},
   "source": [
    "# Tasks"
   ]
  },
  {
   "cell_type": "code",
   "execution_count": 84,
   "id": "92e7edc8",
   "metadata": {},
   "outputs": [],
   "source": [
    "# libraries needed\n",
    "import os\n",
    "import tempfile\n",
    "import requests\n",
    "import math\n",
    "import itertools"
   ]
  },
  {
   "cell_type": "markdown",
   "id": "bd1bc574",
   "metadata": {},
   "source": [
    "### Task 1: Binary Representations"
   ]
  },
  {
   "cell_type": "markdown",
   "id": "659d48dc",
   "metadata": {},
   "source": [
    "Create the following functions in Python, demonstrating their use with examples and tests.\n",
    "\n",
    "The function rotl(x, n=1) that rotates the bits in a 32-bit unsigned integer to the left n places.\n",
    "\n",
    "The function rotr(x, n=1) that rotates the bits in a 32-bit unsigned integer to the right n places.\n",
    "\n",
    "The function ch(x, y, z) that chooses the bits from y where x has bits set to 1 and bits in z where x has bits set to 0.\n",
    "\n",
    "The function maj(x, y, z) which takes a majority vote of the bits in x, y, and z.\n",
    "The output should have a 1 in bit position i where at least two of x, y, and z have 1's in position i.\n",
    "All other output bit positions should be 0."
   ]
  },
  {
   "cell_type": "code",
   "execution_count": 20,
   "id": "48d59248",
   "metadata": {},
   "outputs": [
    {
     "data": {
      "text/plain": [
       "0"
      ]
     },
     "execution_count": 20,
     "metadata": {},
     "output_type": "execute_result"
    }
   ],
   "source": [
    "# ROTATE LEFT\n",
    "def rotl(x, n=1):\n",
    "    \"\"\"Rotate left (circular shift) a 32-bit unsigned integer x by n bits.\"\"\"\n",
    "    if n == 0: return 0\n",
    "    return ((x << n) | (x >> (32 - n))) & 0xFFFFFFFF"
   ]
  },
  {
   "cell_type": "code",
   "execution_count": 2,
   "id": "e3a091c5",
   "metadata": {},
   "outputs": [],
   "source": [
    "# ROTATE RIGHT\n",
    "def rotr(x, n=1):\n",
    "    \"\"\"Rotate right (circular shift) a 32-bit unsigned integer x by n bits.\"\"\"\n",
    "    if n == 0: return 0\n",
    "    return ((x >> n) | (x << (32 - n))) & 0xFFFFFFFF"
   ]
  },
  {
   "cell_type": "code",
   "execution_count": 3,
   "id": "0eea1bf3",
   "metadata": {},
   "outputs": [],
   "source": [
    "# CHOOSE FUNCTION\n",
    "def ch(x, y, z):\n",
    "    \"\"\"\n",
    "    For each bit position:\n",
    "    - Choose bit from y if bit in x is 1\n",
    "    - Choose bit from z if bit in x is 0\n",
    "    \"\"\"\n",
    "    return (x & y) ^ (~x & z) & 0xFFFFFFFF"
   ]
  },
  {
   "cell_type": "code",
   "execution_count": 4,
   "id": "2ee969d1",
   "metadata": {},
   "outputs": [],
   "source": [
    "# MAJORITY FUNCTION\n",
    "def maj(x, y, z):\n",
    "    \"\"\"\n",
    "    For each bit position, return 1 if at least two of the bits in x, y, z are 1.\n",
    "    \"\"\"\n",
    "    return ((x & y) ^ (x & z) ^ (y & z)) & 0xFFFFFFFF"
   ]
  },
  {
   "cell_type": "code",
   "execution_count": 26,
   "id": "efe10e73",
   "metadata": {},
   "outputs": [],
   "source": [
    "# Choice Function\n",
    "def ch(x, y, z):\n",
    "    \"\"\"\n",
    "    For each bit position:\n",
    "    - Choose bit from y if bit in x is 1\n",
    "    - Choose bit from z if bit in x is 0\n",
    "    \"\"\"\n",
    "    return (x & y) ^ (~x & z) & 0xFFFFFFFF"
   ]
  },
  {
   "cell_type": "code",
   "execution_count": 79,
   "id": "02cd77af",
   "metadata": {},
   "outputs": [],
   "source": [
    "# Tests for Task 1\n",
    "def test_rotl():\n",
    "    assert rotl(0x00000001, 1) == 0x00000002\n",
    "    assert rotl(0x80000000, 1) == 0x00000001\n",
    "    assert rotl(0x12345678, 4) == 0x23456781\n",
    "    assert rotl(0xFFFFFFFF, 16) == 0xFFFFFFFF\n",
    "\n",
    "def test_rotr():\n",
    "    assert rotr(0x00000001, 1) == 0x80000000\n",
    "    assert rotr(0x80000000, 1) == 0x40000000\n",
    "    assert rotr(0x12345678, 4) == 0x81234567\n",
    "    assert rotr(0xFFFFFFFF, 16) == 0xFFFFFFFF\n",
    "    \n",
    "\n",
    "# run tests\n",
    "test_rotl()\n",
    "test_rotr()"
   ]
  },
  {
   "cell_type": "markdown",
   "id": "bf6ee60f",
   "metadata": {},
   "source": [
    "### Task 2: Hash Functions"
   ]
  },
  {
   "cell_type": "markdown",
   "id": "9af95cdd",
   "metadata": {},
   "source": [
    "The following hash function is from The C Programming Language by Brian Kernighan and Dennis Ritchie.\n",
    "Convert it to Python, test it, and suggest why the values 31 and 101 are used.\n",
    "\n",
    "\n",
    "\n",
    "``unsigned hash(char *s) {``\n",
    "\n",
    "``    unsigned hashval;``\n",
    "\n",
    "``    for (hashval = 0; *s != '\\0'; s++)``\n",
    "\n",
    "``        hashval = *s + 31 * hashval;``\n",
    "\n",
    "``    return hashval % 101;``\n",
    "\n",
    "``}``"
   ]
  },
  {
   "cell_type": "code",
   "execution_count": 27,
   "id": "9d5faf73",
   "metadata": {},
   "outputs": [
    {
     "name": "stdout",
     "output_type": "stream",
     "text": [
      "hello| 17\n",
      "world| 34\n",
      "python| 91\n",
      "hash| 15\n",
      "function| 100\n",
      "hello world| 13\n"
     ]
    }
   ],
   "source": [
    "def hash_function(text) -> int:\n",
    "    '''\n",
    "    \n",
    "    Args:\n",
    "    Returns:\n",
    "    '''\n",
    "    hashval = 0\n",
    "    \n",
    "    #for each char in text provided\n",
    "    for char in text:\n",
    "        # add the ascii value of the current character & the current hashval * 31\n",
    "        hashval = ord(char) + (31 * hashval)\n",
    "    # after processing all characters, get the remainder of the result after dividing by 101\n",
    "    return hashval % 101\n",
    "\n",
    "# Example usage\n",
    "test_strings = [\"hello\", \"world\", \"python\", \"hash\", \"function\", \"hello world\"]\n",
    "\n",
    "\n",
    "\n",
    "for string in test_strings:\n",
    "    hash_value = hash_function(string)\n",
    "    print(f\"{string}| {hash_value}\")\n",
    "    \n",
    "# Demonstrate collision\n",
    "print(\"\\nLooking for hash collisions...\")\n",
    "hash_table = {}\n",
    "for i in range(1000):\n",
    "    test_string = f\"test{i}\"\n",
    "    hash_value = hash_function(test_string)\n",
    "    \n",
    "    if hash_value in hash_table:\n",
    "        print(f\"Collision found! Both '{test_string}' and '{hash_table[hash_value]}' hash to {hash_value}\")\n",
    "        break\n",
    "    \n",
    "    hash_table[hash_value] = test_string\n",
    "else:\n",
    "    print(\"No collisions found in first 1000 test strings\")\n"
   ]
  },
  {
   "cell_type": "markdown",
   "id": "798801d2",
   "metadata": {},
   "source": [
    "### Task 3: SHA256"
   ]
  },
  {
   "cell_type": "markdown",
   "id": "8e38f3e9",
   "metadata": {},
   "source": [
    "Write a Python function that calculates the SHA256 padding for a given file.\n",
    "The function should take a file path as input.\n",
    "It should print, in hex, the padding that would be applied to it.\n",
    "The specification states that the following should be appended to a message:\n",
    "\n",
    "a1 bit;\n",
    "enough 0 bits so the length in bits of padded message is the smallest possible multiple of 512;\n",
    "the length in bits of the original input as a big-endian 64-bit unsigned integer.\n",
    "The example in the specification is a file containing the three bytes abc:\n",
    "\n",
    "`01100001 01100010 01100011`\n",
    "\n",
    "The output would be:\n",
    "\n",
    "`80 00 00 00 00 00 00 00 00 00 00 00 00 00 00 00 00 00 00 00 00 00 00 00 00 00\n",
    "00 00 00 00 00 00 00 00 00 00 00 00 00 00 00 00 00 00 00 00 00 00 00 00 00 00\n",
    "00 00 00 00 00 00 00 00 18`"
   ]
  },
  {
   "cell_type": "code",
   "execution_count": 55,
   "id": "618252aa",
   "metadata": {},
   "outputs": [],
   "source": [
    "def print_padding_hex(file_path) -> None:\n",
    "    \"\"\"\n",
    "    Print the SHA-256 padding for a file in hex format.\n",
    "    \n",
    "    Args:\n",
    "        file_path: Path to the file\n",
    "    \"\"\"\n",
    "    \n",
    "    def calculate_sha256_padding(file_path) -> bytes:\n",
    "        \"\"\"\n",
    "        Nested function to calculate the SHA-256 padding that would be applied to a file.\n",
    "\n",
    "        Args:\n",
    "            file_path: Path to the file \n",
    "\n",
    "        Returns:\n",
    "            bytes: The padding bytes that would be added to the file\n",
    "        \"\"\"\n",
    "        # Get the file size in bits\n",
    "        file_size_bytes = os.path.getsize(file_path)\n",
    "        file_size_bits = file_size_bytes * 8\n",
    "\n",
    "        # Start with the '1' bit followed by zeros (0x80 is 10000000 in binary)\n",
    "        padding = bytearray([0x80])\n",
    "\n",
    "        # Calculate how many zero bytes we need\n",
    "        # We need to make the message length (in bits) congruent to 448 modulo 512\n",
    "        # This formula gives us the number of pad bytes needed (including the 0x80 byte)\n",
    "        # We adjust by subtracting 1 since we already added the first padding byte (0x80)\n",
    "        padding_bytes_needed = ((56 - (file_size_bytes + 1) % 64) % 64) \n",
    "\n",
    "        # Add the zero bytes \n",
    "        padding.extend([0x00] * padding_bytes_needed)\n",
    "\n",
    "        # Add the original message length as a 64-bit big-endian integer\n",
    "        # We're creating 8 bytes (64 bits) representing the file size in bits\n",
    "        for i in range(8):\n",
    "            # Shift right by multiples of 8 and mask to get each byte\n",
    "            # Starting from most significant byte (big-endian)\n",
    "            padding.append((file_size_bits >> (56 - i * 8)) & 0xFF)\n",
    "\n",
    "        return bytes(padding)\n",
    "    \n",
    "    padding = calculate_sha256_padding(file_path)\n",
    "    \n",
    "    # Print in hex format with line breaks (similar to the example)\n",
    "    hex_padding = ' '.join([f'{b:02x}' for b in padding])\n",
    "    \n",
    "    # Break every 26 bytes (52 chars plus spaces)\n",
    "    formatted_padding = ''\n",
    "    for i in range(0, len(hex_padding), 78):\n",
    "        formatted_padding += hex_padding[i:i+78] + '\\n'\n",
    "    \n",
    "    print(formatted_padding)"
   ]
  },
  {
   "cell_type": "code",
   "execution_count": 45,
   "id": "5b71d470",
   "metadata": {},
   "outputs": [
    {
     "name": "stdout",
     "output_type": "stream",
     "text": [
      "SHA-256 padding for 'abc':\n",
      "80 00 00 00 00 00 00 00 00 00 00 00 00 00 00 00 00 00 00 00 00 00 00 00 00 00 \n",
      "00 00 00 00 00 00 00 00 00 00 00 00 00 00 00 00 00 00 00 00 00 00 00 00 00 00 \n",
      "00 00 00 00 00 00 00 00 18\n",
      "\n",
      "\n",
      "Test completed. Verify that the output shows:\n",
      "1. The first byte is '80'\n",
      "2. The last 8 bytes are '00 00 00 00 00 00 00 18'\n",
      "3. Total padding length is 61 bytes (1 + 52 + 8)\n"
     ]
    }
   ],
   "source": [
    "# Test with a file containing \"abc\" \n",
    "\n",
    "\n",
    "def test_print_padding_hex() -> None:\n",
    "    \"\"\"\n",
    "    Test the SHA-256 padding functionality with the string 'abc'\n",
    "    \"\"\"\n",
    "    # Create a test file with 'abc'\n",
    "    with open(\"test.txt\", \"wb\") as f:\n",
    "        f.write(b\"abc\")\n",
    "    \n",
    "    print(\"SHA-256 padding for 'abc':\")\n",
    "    print_padding_hex(\"test.txt\")\n",
    "    \n",
    "    # Clean up the test file\n",
    "    os.remove(\"test.txt\")\n",
    "    \n",
    "    # Expected output for reference (3-byte file):\n",
    "    # - First byte should be 0x80 (the '1' bit followed by zeros)\n",
    "    # - Followed by 52 zero bytes\n",
    "    # - Last 8 bytes should represent 24 bits (3 bytes * 8): 0x0000000000000018\n",
    "    \n",
    "    print(\"\\nTest completed. Verify that the output shows:\")\n",
    "    print(\"1. The first byte is '80'\")\n",
    "    print(\"2. The last 8 bytes are '00 00 00 00 00 00 00 18'\")\n",
    "    print(\"3. Total padding length is 61 bytes (1 + 52 + 8)\")\n",
    "test_print_padding_hex()\n"
   ]
  },
  {
   "cell_type": "markdown",
   "id": "ee5b8e78",
   "metadata": {},
   "source": [
    "### Task 4: Prime Numbers"
   ]
  },
  {
   "cell_type": "markdown",
   "id": "cecd8564",
   "metadata": {},
   "source": [
    "Calculate the first 100 prime numbers using two different algorithms.\n",
    "Any algorithms that are well-established and works correctly are okay to use.\n",
    "Explain how the algorithms work."
   ]
  },
  {
   "cell_type": "markdown",
   "id": "4cd386a8",
   "metadata": {},
   "source": [
    "**Algorithm One: Sieve of Eratosthenes** \n",
    "The Sieve of Eratosthenes is an ancient and efficient algorithm for finding all prime numbers up to a specified limit. It works by iteratively marking the multiples of each prime number as composite (not prime)."
   ]
  },
  {
   "cell_type": "code",
   "execution_count": 56,
   "id": "338c2587",
   "metadata": {},
   "outputs": [
    {
     "name": "stdout",
     "output_type": "stream",
     "text": [
      "[2, 3, 5, 7, 11, 13, 17, 19, 23, 29, 31, 37, 41, 43, 47, 53, 59, 61, 67, 71, 73, 79, 83, 89, 97, 101, 103, 107, 109, 113, 127, 131, 137, 139, 149, 151, 157, 163, 167, 173, 179, 181, 191, 193, 197, 199, 211, 223, 227, 229, 233, 239, 241, 251, 257, 263, 269, 271, 277, 281, 283, 293, 307, 311, 313, 317, 331, 337, 347, 349, 353, 359, 367, 373, 379, 383, 389, 397, 401, 409, 419, 421, 431, 433, 439, 443, 449, 457, 461, 463, 467, 479, 487, 491, 499, 503, 509, 521, 523, 541]\n"
     ]
    }
   ],
   "source": [
    "def sieve_of_eratosthenes(n) -> list:\n",
    "    \"\"\"\n",
    "    Find the first 100 prime numbers using the Sieve of Eratosthenes algorithm.\n",
    "    \n",
    "    This function implements the classical Sieve of Eratosthenes algorithm to efficiently\n",
    "    find prime numbers.\n",
    "    \n",
    "    Args:\n",
    "        n (int):The upper limit to search for primes. Should be large enough to \n",
    "                contain at least 100 prime numbers [600 works for me].\n",
    "    \n",
    "    Returns:\n",
    "        list: A list containing the first 100 prime numbers.\n",
    "    \"\"\"\n",
    "    # Create a bool array where all entries are initially True\n",
    "    # A value in prime[i] will finally be False if i is not a prime, else True\n",
    "    prime = [True for i in range(n+1)]\n",
    "    p = 2\n",
    "    \n",
    "    # Start from the first prime number, 2\n",
    "    while p * p <= n:\n",
    "        # If prime[p] is True, then it's a prime\n",
    "        if prime[p] == True:\n",
    "            # Update all multiples of p\n",
    "            for i in range(p * p, n+1, p):\n",
    "                prime[i] = False\n",
    "        p += 1\n",
    "    \n",
    "    # Create a list of all prime numbers\n",
    "    primes = []\n",
    "    for p in range(2, n+1):\n",
    "        if prime[p]:\n",
    "            primes.append(p)\n",
    "            if len(primes) == 100:\n",
    "                break\n",
    "    \n",
    "    return primes\n",
    "\n",
    "# Get the first 100 prime numbers\n",
    "primes = sieve_of_eratosthenes(600)  # 600 is sufficient to find the first 100 primes\n",
    "print(primes)"
   ]
  },
  {
   "cell_type": "markdown",
   "id": "78fc5e9d",
   "metadata": {},
   "source": [
    "**Algorithm 2: Incremental Sieve**\n",
    "\n",
    "The Incremental Sieve uses a dictionary to track composite numbers and their smallest prime factors:\n",
    "\n",
    "It processes numbers one by one, starting from 2\n",
    "If a number is not in the dictionary, it's prime\n",
    "When we find a prime, we add its square to the composites dictionary\n",
    "For composite numbers, we advance the smallest prime factor to the next multiple\n",
    "We continue until we've found the desired number of primes"
   ]
  },
  {
   "cell_type": "code",
   "execution_count": 49,
   "id": "ef8a8745",
   "metadata": {},
   "outputs": [
    {
     "name": "stdout",
     "output_type": "stream",
     "text": [
      "[2, 3, 5, 7, 11, 13, 17, 19, 23, 29, 31, 37, 41, 43, 47, 53, 59, 61, 67, 71, 73, 79, 83, 89, 97, 101, 103, 107, 109, 113, 127, 131, 137, 139, 149, 151, 157, 163, 167, 173, 179, 181, 191, 193, 197, 199, 211, 223, 227, 229, 233, 239, 241, 251, 257, 263, 269, 271, 277, 281, 283, 293, 307, 311, 313, 317, 331, 337, 347, 349, 353, 359, 367, 373, 379, 383, 389, 397, 401, 409, 419, 421, 431, 433, 439, 443, 449, 457, 461, 463, 467, 479, 487, 491, 499, 503, 509, 521, 523, 541]\n"
     ]
    }
   ],
   "source": [
    "def incremental_sieve(n) -> list:\n",
    "    \"\"\"\n",
    "    Find the first n prime numbers using an incremental sieve approach.\n",
    "    \n",
    "    Args:\n",
    "        n: Number of primes to find\n",
    "        \n",
    "    Returns:\n",
    "        A list of the first n prime numbers\n",
    "    \"\"\"\n",
    "    primes = []\n",
    "    # Dictionary to store smallest prime factor for each composite number\n",
    "    composites = {}\n",
    "    \n",
    "    num = 2  # Start with first prime\n",
    "    \n",
    "    while len(primes) < n:\n",
    "        # If num is not in composites, it's prime\n",
    "        if num not in composites:\n",
    "            primes.append(num)\n",
    "            # Mark its first multiple (num*num) as composite\n",
    "            composites[num * num] = num\n",
    "        else:\n",
    "            # num is composite, find next multiple of its smallest prime factor\n",
    "            prime_factor = composites.pop(num)\n",
    "            next_composite = num + prime_factor\n",
    "            \n",
    "            # Make sure we don't overwrite an existing entry\n",
    "            while next_composite in composites:\n",
    "                next_composite += prime_factor\n",
    "                \n",
    "            composites[next_composite] = prime_factor\n",
    "            \n",
    "        num += 1\n",
    "        \n",
    "    return primes\n",
    "\n",
    "print(incremental_sieve(100))"
   ]
  },
  {
   "cell_type": "code",
   "execution_count": 81,
   "id": "7c0828d5",
   "metadata": {},
   "outputs": [],
   "source": [
    "# Testing algorithms against one another\n",
    "assert(( sieve_of_eratosthenes(600)) == incremental_sieve(100))"
   ]
  },
  {
   "cell_type": "markdown",
   "id": "a11d8b07",
   "metadata": {},
   "source": [
    "### Task 5: Roots"
   ]
  },
  {
   "cell_type": "markdown",
   "id": "c541fa23",
   "metadata": {},
   "source": [
    "Calculate the first **32 bits** of the fractional part of the square roots of the first 100 prime numbers.\n",
    "\n",
    "To avhieve this task we must use the function from task number 4 to get the first 100 prime numbers, and then calculate the first 32 bits of the fractional part of the square roots of them."
   ]
  },
  {
   "cell_type": "code",
   "execution_count": 80,
   "id": "65e66c23",
   "metadata": {},
   "outputs": [
    {
     "name": "stdout",
     "output_type": "stream",
     "text": [
      "[2, 3, 5, 7, 11, 13, 17, 19, 23, 29, 31, 37, 41, 43, 47, 53, 59, 61, 67, 71, 73, 79, 83, 89, 97, 101, 103, 107, 109, 113, 127, 131, 137, 139, 149, 151, 157, 163, 167, 173, 179, 181, 191, 193, 197, 199, 211, 223, 227, 229, 233, 239, 241, 251, 257, 263, 269, 271, 277, 281, 283, 293, 307, 311, 313, 317, 331, 337, 347, 349, 353, 359, 367, 373, 379, 383, 389, 397, 401, 409, 419, 421, 431, 433, 439, 443, 449, 457, 461, 463, 467, 479, 487, 491, 499, 503, 509, 521, 523, 541]\n"
     ]
    }
   ],
   "source": [
    "first_100_prime_numbers = incremental_sieve(100)\n",
    "\n",
    "# get the first 100 prime numbers ( from previous task )\n",
    "print(first_100_prime_numbers)\n",
    "\n",
    "def roots(primes) -> None:\n",
    "\n",
    "    # calculate the square root of each prime number\n",
    "    for prime in primes:\n",
    "\n",
    "        #Calculate the square root\n",
    "        sqrt_value = math.sqrt(prime)\n",
    "    \n",
    "roots(first_100_prime_numbers)"
   ]
  },
  {
   "cell_type": "markdown",
   "id": "ab07e310",
   "metadata": {},
   "source": [
    "### Task 6: Proof of work"
   ]
  },
  {
   "cell_type": "code",
   "execution_count": null,
   "id": "a3c2e24d",
   "metadata": {},
   "outputs": [],
   "source": [
    "# Proof of work component\n"
   ]
  },
  {
   "cell_type": "markdown",
   "id": "0d527067",
   "metadata": {},
   "source": [
    "### Task 7: Turing Machines"
   ]
  },
  {
   "cell_type": "markdown",
   "id": "a16849fd",
   "metadata": {},
   "source": [
    "Design a Turing Machine that adds 1 to a binary number on its tape.\n",
    "The machine should start at the left-most non-blank symbol.\n",
    "It should treat the right-most symbol as the least significant bit.\n",
    "\n",
    "For example, suppose the following is on the tape at the start:\n",
    "\n",
    "``100111``\n",
    "\n",
    "Your Turing machine should leave the following on the tape when it completes:\n",
    "\n",
    "``101000``"
   ]
  },
  {
   "cell_type": "code",
   "execution_count": 82,
   "id": "cd6bd6e3",
   "metadata": {},
   "outputs": [],
   "source": [
    "# create Tape class\n",
    "class Tape(object):\n",
    "    \n",
    "    blank_symbol = \" \"\n",
    "    \n",
    "    def __init__(self,\n",
    "                 tape_string = \"\"):\n",
    "        self.__tape = dict((enumerate(tape_string)))\n",
    "        \n",
    "    def __str__(self):\n",
    "        s = \"\"\n",
    "        min_used_index = min(self.__tape.keys()) \n",
    "        max_used_index = max(self.__tape.keys())\n",
    "        for i in range(min_used_index, max_used_index):\n",
    "            s += self.__tape[i]\n",
    "        return s    \n",
    "   \n",
    "    def __getitem__(self,index):\n",
    "        if index in self.__tape:\n",
    "            return self.__tape[index]\n",
    "        else:\n",
    "            return Tape.blank_symbol\n",
    "\n",
    "    def __setitem__(self, pos, char):\n",
    "        self.__tape[pos] = char \n",
    "\n",
    "\n",
    "# Create TuringMachine Class\n",
    "class TuringMachine(object):\n",
    "    \n",
    "    def __init__(self, \n",
    "                 tape = \"\", \n",
    "                 blank_symbol = \" \",\n",
    "                 initial_state = \"\",\n",
    "                 final_states = None,\n",
    "                 transition_function = None):\n",
    "        self.__tape = Tape(tape)\n",
    "        self.__head_position = 0\n",
    "        self.__blank_symbol = blank_symbol\n",
    "        self.__current_state = initial_state\n",
    "        if transition_function == None:\n",
    "            self.__transition_function = {}\n",
    "        else:\n",
    "            self.__transition_function = transition_function\n",
    "        if final_states == None:\n",
    "            self.__final_states = set()\n",
    "        else:\n",
    "            self.__final_states = set(final_states)\n",
    "        \n",
    "    def get_tape(self): \n",
    "        return str(self.__tape)\n",
    "    \n",
    "    def step(self):\n",
    "        char_under_head = self.__tape[self.__head_position]\n",
    "        x = (self.__current_state, char_under_head)\n",
    "        if x in self.__transition_function:\n",
    "            y = self.__transition_function[x]\n",
    "            self.__tape[self.__head_position] = y[1]\n",
    "            if y[2] == \"R\":\n",
    "                self.__head_position += 1\n",
    "            elif y[2] == \"L\":\n",
    "                self.__head_position -= 1\n",
    "            self.__current_state = y[0]\n",
    "\n",
    "    def final(self):\n",
    "        if self.__current_state in self.__final_states:\n",
    "            return True\n",
    "        else:\n",
    "            return False"
   ]
  },
  {
   "cell_type": "code",
   "execution_count": 78,
   "id": "d4ffecb5",
   "metadata": {},
   "outputs": [
    {
     "name": "stdout",
     "output_type": "stream",
     "text": [
      "Input on Tape:\n",
      "010011001\n",
      "Result of the Turing machine calculation:\n",
      "101100110\n"
     ]
    }
   ],
   "source": [
    "# Test\n",
    "\n",
    "initial_state = \"init\",\n",
    "accepting_states = [\"final\"],\n",
    "transition_function = {(\"init\",\"0\"):(\"init\", \"1\", \"R\"),\n",
    "                       (\"init\",\"1\"):(\"init\", \"0\", \"R\"),\n",
    "                       (\"init\",\" \"):(\"final\",\" \", \"N\"),\n",
    "                       }\n",
    "final_states = {\"final\"}\n",
    "\n",
    "t = TuringMachine(\"010011001 \",\n",
    "                  initial_state = \"init\",\n",
    "                  final_states = final_states,\n",
    "                  transition_function=transition_function)\n",
    "\n",
    "print(\"Input on Tape:\\n\" + t.get_tape())\n",
    "\n",
    "while not t.final():\n",
    "    t.step()\n",
    "\n",
    "print(\"Result of the Turing machine calculation:\")\n",
    "print(t.get_tape())\n"
   ]
  },
  {
   "cell_type": "markdown",
   "id": "c38ceca7",
   "metadata": {},
   "source": [
    "### Task 8: Computational Complexity"
   ]
  },
  {
   "cell_type": "markdown",
   "id": "5da9fe05",
   "metadata": {},
   "source": [
    "Implement bubble sort in Python, modifying it to count the number of comparisons made during sorting.\n",
    "Use this function to sort all permutations of the list:\n",
    "\n",
    "``L = [1, 2, 3, 4, 5]``\n",
    "For each permutation, print the permutation itself followed by the number of comparisons required to sort it."
   ]
  },
  {
   "cell_type": "code",
   "execution_count": 85,
   "id": "a2ca1bf1",
   "metadata": {},
   "outputs": [
    {
     "name": "stdout",
     "output_type": "stream",
     "text": [
      "(1, 2, 3, 4, 5) -> Comparisons: 10\n",
      "(1, 2, 3, 5, 4) -> Comparisons: 10\n",
      "(1, 2, 4, 3, 5) -> Comparisons: 10\n",
      "(1, 2, 4, 5, 3) -> Comparisons: 10\n",
      "(1, 2, 5, 3, 4) -> Comparisons: 10\n",
      "(1, 2, 5, 4, 3) -> Comparisons: 10\n",
      "(1, 3, 2, 4, 5) -> Comparisons: 10\n",
      "(1, 3, 2, 5, 4) -> Comparisons: 10\n",
      "(1, 3, 4, 2, 5) -> Comparisons: 10\n",
      "(1, 3, 4, 5, 2) -> Comparisons: 10\n",
      "(1, 3, 5, 2, 4) -> Comparisons: 10\n",
      "(1, 3, 5, 4, 2) -> Comparisons: 10\n",
      "(1, 4, 2, 3, 5) -> Comparisons: 10\n",
      "(1, 4, 2, 5, 3) -> Comparisons: 10\n",
      "(1, 4, 3, 2, 5) -> Comparisons: 10\n",
      "(1, 4, 3, 5, 2) -> Comparisons: 10\n",
      "(1, 4, 5, 2, 3) -> Comparisons: 10\n",
      "(1, 4, 5, 3, 2) -> Comparisons: 10\n",
      "(1, 5, 2, 3, 4) -> Comparisons: 10\n",
      "(1, 5, 2, 4, 3) -> Comparisons: 10\n",
      "(1, 5, 3, 2, 4) -> Comparisons: 10\n",
      "(1, 5, 3, 4, 2) -> Comparisons: 10\n",
      "(1, 5, 4, 2, 3) -> Comparisons: 10\n",
      "(1, 5, 4, 3, 2) -> Comparisons: 10\n",
      "(2, 1, 3, 4, 5) -> Comparisons: 10\n",
      "(2, 1, 3, 5, 4) -> Comparisons: 10\n",
      "(2, 1, 4, 3, 5) -> Comparisons: 10\n",
      "(2, 1, 4, 5, 3) -> Comparisons: 10\n",
      "(2, 1, 5, 3, 4) -> Comparisons: 10\n",
      "(2, 1, 5, 4, 3) -> Comparisons: 10\n",
      "(2, 3, 1, 4, 5) -> Comparisons: 10\n",
      "(2, 3, 1, 5, 4) -> Comparisons: 10\n",
      "(2, 3, 4, 1, 5) -> Comparisons: 10\n",
      "(2, 3, 4, 5, 1) -> Comparisons: 10\n",
      "(2, 3, 5, 1, 4) -> Comparisons: 10\n",
      "(2, 3, 5, 4, 1) -> Comparisons: 10\n",
      "(2, 4, 1, 3, 5) -> Comparisons: 10\n",
      "(2, 4, 1, 5, 3) -> Comparisons: 10\n",
      "(2, 4, 3, 1, 5) -> Comparisons: 10\n",
      "(2, 4, 3, 5, 1) -> Comparisons: 10\n",
      "(2, 4, 5, 1, 3) -> Comparisons: 10\n",
      "(2, 4, 5, 3, 1) -> Comparisons: 10\n",
      "(2, 5, 1, 3, 4) -> Comparisons: 10\n",
      "(2, 5, 1, 4, 3) -> Comparisons: 10\n",
      "(2, 5, 3, 1, 4) -> Comparisons: 10\n",
      "(2, 5, 3, 4, 1) -> Comparisons: 10\n",
      "(2, 5, 4, 1, 3) -> Comparisons: 10\n",
      "(2, 5, 4, 3, 1) -> Comparisons: 10\n",
      "(3, 1, 2, 4, 5) -> Comparisons: 10\n",
      "(3, 1, 2, 5, 4) -> Comparisons: 10\n",
      "(3, 1, 4, 2, 5) -> Comparisons: 10\n",
      "(3, 1, 4, 5, 2) -> Comparisons: 10\n",
      "(3, 1, 5, 2, 4) -> Comparisons: 10\n",
      "(3, 1, 5, 4, 2) -> Comparisons: 10\n",
      "(3, 2, 1, 4, 5) -> Comparisons: 10\n",
      "(3, 2, 1, 5, 4) -> Comparisons: 10\n",
      "(3, 2, 4, 1, 5) -> Comparisons: 10\n",
      "(3, 2, 4, 5, 1) -> Comparisons: 10\n",
      "(3, 2, 5, 1, 4) -> Comparisons: 10\n",
      "(3, 2, 5, 4, 1) -> Comparisons: 10\n",
      "(3, 4, 1, 2, 5) -> Comparisons: 10\n",
      "(3, 4, 1, 5, 2) -> Comparisons: 10\n",
      "(3, 4, 2, 1, 5) -> Comparisons: 10\n",
      "(3, 4, 2, 5, 1) -> Comparisons: 10\n",
      "(3, 4, 5, 1, 2) -> Comparisons: 10\n",
      "(3, 4, 5, 2, 1) -> Comparisons: 10\n",
      "(3, 5, 1, 2, 4) -> Comparisons: 10\n",
      "(3, 5, 1, 4, 2) -> Comparisons: 10\n",
      "(3, 5, 2, 1, 4) -> Comparisons: 10\n",
      "(3, 5, 2, 4, 1) -> Comparisons: 10\n",
      "(3, 5, 4, 1, 2) -> Comparisons: 10\n",
      "(3, 5, 4, 2, 1) -> Comparisons: 10\n",
      "(4, 1, 2, 3, 5) -> Comparisons: 10\n",
      "(4, 1, 2, 5, 3) -> Comparisons: 10\n",
      "(4, 1, 3, 2, 5) -> Comparisons: 10\n",
      "(4, 1, 3, 5, 2) -> Comparisons: 10\n",
      "(4, 1, 5, 2, 3) -> Comparisons: 10\n",
      "(4, 1, 5, 3, 2) -> Comparisons: 10\n",
      "(4, 2, 1, 3, 5) -> Comparisons: 10\n",
      "(4, 2, 1, 5, 3) -> Comparisons: 10\n",
      "(4, 2, 3, 1, 5) -> Comparisons: 10\n",
      "(4, 2, 3, 5, 1) -> Comparisons: 10\n",
      "(4, 2, 5, 1, 3) -> Comparisons: 10\n",
      "(4, 2, 5, 3, 1) -> Comparisons: 10\n",
      "(4, 3, 1, 2, 5) -> Comparisons: 10\n",
      "(4, 3, 1, 5, 2) -> Comparisons: 10\n",
      "(4, 3, 2, 1, 5) -> Comparisons: 10\n",
      "(4, 3, 2, 5, 1) -> Comparisons: 10\n",
      "(4, 3, 5, 1, 2) -> Comparisons: 10\n",
      "(4, 3, 5, 2, 1) -> Comparisons: 10\n",
      "(4, 5, 1, 2, 3) -> Comparisons: 10\n",
      "(4, 5, 1, 3, 2) -> Comparisons: 10\n",
      "(4, 5, 2, 1, 3) -> Comparisons: 10\n",
      "(4, 5, 2, 3, 1) -> Comparisons: 10\n",
      "(4, 5, 3, 1, 2) -> Comparisons: 10\n",
      "(4, 5, 3, 2, 1) -> Comparisons: 10\n",
      "(5, 1, 2, 3, 4) -> Comparisons: 10\n",
      "(5, 1, 2, 4, 3) -> Comparisons: 10\n",
      "(5, 1, 3, 2, 4) -> Comparisons: 10\n",
      "(5, 1, 3, 4, 2) -> Comparisons: 10\n",
      "(5, 1, 4, 2, 3) -> Comparisons: 10\n",
      "(5, 1, 4, 3, 2) -> Comparisons: 10\n",
      "(5, 2, 1, 3, 4) -> Comparisons: 10\n",
      "(5, 2, 1, 4, 3) -> Comparisons: 10\n",
      "(5, 2, 3, 1, 4) -> Comparisons: 10\n",
      "(5, 2, 3, 4, 1) -> Comparisons: 10\n",
      "(5, 2, 4, 1, 3) -> Comparisons: 10\n",
      "(5, 2, 4, 3, 1) -> Comparisons: 10\n",
      "(5, 3, 1, 2, 4) -> Comparisons: 10\n",
      "(5, 3, 1, 4, 2) -> Comparisons: 10\n",
      "(5, 3, 2, 1, 4) -> Comparisons: 10\n",
      "(5, 3, 2, 4, 1) -> Comparisons: 10\n",
      "(5, 3, 4, 1, 2) -> Comparisons: 10\n",
      "(5, 3, 4, 2, 1) -> Comparisons: 10\n",
      "(5, 4, 1, 2, 3) -> Comparisons: 10\n",
      "(5, 4, 1, 3, 2) -> Comparisons: 10\n",
      "(5, 4, 2, 1, 3) -> Comparisons: 10\n",
      "(5, 4, 2, 3, 1) -> Comparisons: 10\n",
      "(5, 4, 3, 1, 2) -> Comparisons: 10\n",
      "(5, 4, 3, 2, 1) -> Comparisons: 10\n"
     ]
    }
   ],
   "source": [
    "def bubble_sort_with_comparison_count(arr):\n",
    "    n = len(arr)\n",
    "    comparisons = 0\n",
    "    arr = arr.copy()  # To avoid modifying the original permutation\n",
    "    for i in range(n):\n",
    "        for j in range(0, n-i-1):\n",
    "            comparisons += 1\n",
    "            if arr[j] > arr[j+1]:\n",
    "                arr[j], arr[j+1] = arr[j+1], arr[j]\n",
    "    return comparisons\n",
    "\n",
    "L = [1, 2, 3, 4, 5]\n",
    "perms = itertools.permutations(L)\n",
    "\n",
    "for perm in perms:\n",
    "    comp_count = bubble_sort_with_comparison_count(list(perm))\n",
    "    print(f\"{perm} -> Comparisons: {comp_count}\")\n"
   ]
  }
 ],
 "metadata": {
  "kernelspec": {
   "display_name": "Python 3 (ipykernel)",
   "language": "python",
   "name": "python3"
  },
  "language_info": {
   "codemirror_mode": {
    "name": "ipython",
    "version": 3
   },
   "file_extension": ".py",
   "mimetype": "text/x-python",
   "name": "python",
   "nbconvert_exporter": "python",
   "pygments_lexer": "ipython3",
   "version": "3.11.5"
  }
 },
 "nbformat": 4,
 "nbformat_minor": 5
}
