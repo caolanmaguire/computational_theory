{
 "cells": [
  {
   "cell_type": "markdown",
   "id": "9e27de17",
   "metadata": {},
   "source": [
    "# Tasks"
   ]
  },
  {
   "cell_type": "markdown",
   "id": "bd1bc574",
   "metadata": {},
   "source": [
    "### Task 1: Binary Representations"
   ]
  },
  {
   "cell_type": "markdown",
   "id": "659d48dc",
   "metadata": {},
   "source": [
    "Create the following functions in Python, demonstrating their use with examples and tests.\n",
    "\n",
    "The function rotl(x, n=1) that rotates the bits in a 32-bit unsigned integer to the left n places.\n",
    "\n",
    "The function rotr(x, n=1) that rotates the bits in a 32-bit unsigned integer to the right n places.\n",
    "\n",
    "The function ch(x, y, z) that chooses the bits from y where x has bits set to 1 and bits in z where x has bits set to 0.\n",
    "\n",
    "The function maj(x, y, z) which takes a majority vote of the bits in x, y, and z.\n",
    "The output should have a 1 in bit position i where at least two of x, y, and z have 1's in position i.\n",
    "All other output bit positions should be 0."
   ]
  },
  {
   "cell_type": "code",
   "execution_count": 20,
   "id": "48d59248",
   "metadata": {},
   "outputs": [
    {
     "data": {
      "text/plain": [
       "0"
      ]
     },
     "execution_count": 20,
     "metadata": {},
     "output_type": "execute_result"
    }
   ],
   "source": [
    "# ROTATE LEFT\n",
    "def rotl(x, n=1):\n",
    "    \"\"\"Rotate left (circular shift) a 32-bit unsigned integer x by n bits.\"\"\"\n",
    "    if n == 0: return 0\n",
    "    return ((x << n) | (x >> (32 - n))) & 0xFFFFFFFF"
   ]
  },
  {
   "cell_type": "code",
   "execution_count": 2,
   "id": "e3a091c5",
   "metadata": {},
   "outputs": [],
   "source": [
    "# ROTATE RIGHT\n",
    "def rotr(x, n=1):\n",
    "    \"\"\"Rotate right (circular shift) a 32-bit unsigned integer x by n bits.\"\"\"\n",
    "    if n == 0: return 0\n",
    "    return ((x >> n) | (x << (32 - n))) & 0xFFFFFFFF"
   ]
  },
  {
   "cell_type": "code",
   "execution_count": 3,
   "id": "0eea1bf3",
   "metadata": {},
   "outputs": [],
   "source": [
    "# CHOOSE FUNCTION\n",
    "def ch(x, y, z):\n",
    "    \"\"\"\n",
    "    For each bit position:\n",
    "    - Choose bit from y if bit in x is 1\n",
    "    - Choose bit from z if bit in x is 0\n",
    "    \"\"\"\n",
    "    return (x & y) ^ (~x & z) & 0xFFFFFFFF"
   ]
  },
  {
   "cell_type": "code",
   "execution_count": 4,
   "id": "2ee969d1",
   "metadata": {},
   "outputs": [],
   "source": [
    "# MAJORITY FUNCTION\n",
    "def maj(x, y, z):\n",
    "    \"\"\"\n",
    "    For each bit position, return 1 if at least two of the bits in x, y, z are 1.\n",
    "    \"\"\"\n",
    "    return ((x & y) ^ (x & z) ^ (y & z)) & 0xFFFFFFFF"
   ]
  },
  {
   "cell_type": "code",
   "execution_count": 26,
   "id": "f9c6d9d5",
   "metadata": {},
   "outputs": [],
   "source": [
    "# Choice Function\n",
    "def ch(x, y, z):\n",
    "    \"\"\"\n",
    "    For each bit position:\n",
    "    - Choose bit from y if bit in x is 1\n",
    "    - Choose bit from z if bit in x is 0\n",
    "    \"\"\"\n",
    "    return (x & y) ^ (~x & z) & 0xFFFFFFFF"
   ]
  },
  {
   "cell_type": "code",
   "execution_count": 21,
   "id": "02cd77af",
   "metadata": {},
   "outputs": [],
   "source": [
    "# Tests for Task 1\n",
    "def test_rotl():\n",
    "    assert rotl(0x00000001, 1) == 0x00000002\n",
    "    assert rotl(0x80000000, 1) == 0x00000001\n",
    "    assert rotl(0x12345678, 4) == 0x23456781\n",
    "    assert rotl(0xFFFFFFFF, 16) == 0xFFFFFFFF\n",
    "\n",
    "def test_rotr():\n",
    "    assert rotr(0x00000001, 1) == 0x80000000\n",
    "    assert rotr(0x80000000, 1) == 0x40000000\n",
    "    assert rotr(0x12345678, 4) == 0x81234567\n",
    "    assert rotr(0xFFFFFFFF, 16) == 0xFFFFFFFF\n",
    "    \n",
    "\n",
    "# run tests\n",
    "test_rotl()\n",
    "test_rotr()"
   ]
  },
  {
   "cell_type": "markdown",
   "id": "bf6ee60f",
   "metadata": {},
   "source": [
    "### Task 2: Hash Functions"
   ]
  },
  {
   "cell_type": "markdown",
   "id": "8adca7a1",
   "metadata": {},
   "source": [
    "The following hash function is from The C Programming Language by Brian Kernighan and Dennis Ritchie.\n",
    "Convert it to Python, test it, and suggest why the values 31 and 101 are used.\n",
    "\n",
    "\n",
    "\n",
    "``unsigned hash(char *s) {``\n",
    "\n",
    "``    unsigned hashval;``\n",
    "\n",
    "``    for (hashval = 0; *s != '\\0'; s++)``\n",
    "\n",
    "``        hashval = *s + 31 * hashval;``\n",
    "\n",
    "``    return hashval % 101;``\n",
    "\n",
    "``}``"
   ]
  },
  {
   "cell_type": "code",
   "execution_count": 27,
   "id": "9d5faf73",
   "metadata": {},
   "outputs": [
    {
     "name": "stdout",
     "output_type": "stream",
     "text": [
      "hello| 17\n",
      "world| 34\n",
      "python| 91\n",
      "hash| 15\n",
      "function| 100\n",
      "hello world| 13\n"
     ]
    }
   ],
   "source": [
    "def hash_function(text):\n",
    "    hashval = 0\n",
    "    \n",
    "    #for each char in text provided\n",
    "    for char in text:\n",
    "        # add the ascii value of the current character & the current hashval * 31\n",
    "        hashval = ord(char) + (31 * hashval)\n",
    "    # after processing all characters, get the remainder of the result after dividing by 101\n",
    "    return hashval % 101\n",
    "\n",
    "# Example usage\n",
    "test_strings = [\"hello\", \"world\", \"python\", \"hash\", \"function\", \"hello world\"]\n",
    "\n",
    "\n",
    "\n",
    "for string in test_strings:\n",
    "    hash_value = hash_function(string)\n",
    "    print(f\"{string}| {hash_value}\")\n",
    "    \n",
    "# Demonstrate collision\n",
    "print(\"\\nLooking for hash collisions...\")\n",
    "hash_table = {}\n",
    "for i in range(1000):\n",
    "    test_string = f\"test{i}\"\n",
    "    hash_value = hash_function(test_string)\n",
    "    \n",
    "    if hash_value in hash_table:\n",
    "        print(f\"Collision found! Both '{test_string}' and '{hash_table[hash_value]}' hash to {hash_value}\")\n",
    "        break\n",
    "    \n",
    "    hash_table[hash_value] = test_string\n",
    "else:\n",
    "    print(\"No collisions found in first 1000 test strings\")\n"
   ]
  },
  {
   "cell_type": "markdown",
   "id": "798801d2",
   "metadata": {},
   "source": [
    "### Task 3: SHA256"
   ]
  },
  {
   "cell_type": "markdown",
   "id": "79f3e0d1",
   "metadata": {},
   "source": [
    "Write a Python function that calculates the SHA256 padding for a given file.\n",
    "The function should take a file path as input.\n",
    "It should print, in hex, the padding that would be applied to it.\n",
    "The specification states that the following should be appended to a message:\n",
    "\n",
    "a1 bit;\n",
    "enough 0 bits so the length in bits of padded message is the smallest possible multiple of 512;\n",
    "the length in bits of the original input as a big-endian 64-bit unsigned integer.\n",
    "The example in the specification is a file containing the three bytes abc:\n",
    "\n",
    "`01100001 01100010 01100011`\n",
    "\n",
    "The output would be:\n",
    "\n",
    "`80 00 00 00 00 00 00 00 00 00 00 00 00 00 00 00 00 00 00 00 00 00 00 00 00 00\n",
    "00 00 00 00 00 00 00 00 00 00 00 00 00 00 00 00 00 00 00 00 00 00 00 00 00 00\n",
    "00 00 00 00 00 00 00 00 18`"
   ]
  },
  {
   "cell_type": "markdown",
   "id": "ee5b8e78",
   "metadata": {},
   "source": [
    "### Task 4: Prime Numbers"
   ]
  },
  {
   "cell_type": "markdown",
   "id": "a11d8b07",
   "metadata": {},
   "source": [
    "### Task 5: Roots"
   ]
  },
  {
   "cell_type": "markdown",
   "id": "ab07e310",
   "metadata": {},
   "source": [
    "### Task 6: Proof of work"
   ]
  },
  {
   "cell_type": "markdown",
   "id": "0d527067",
   "metadata": {},
   "source": [
    "### Task 7: Turing Machines"
   ]
  },
  {
   "cell_type": "markdown",
   "id": "c38ceca7",
   "metadata": {},
   "source": [
    "### Task 8: Computational Complexity"
   ]
  }
 ],
 "metadata": {
  "kernelspec": {
   "display_name": "Python 3 (ipykernel)",
   "language": "python",
   "name": "python3"
  },
  "language_info": {
   "codemirror_mode": {
    "name": "ipython",
    "version": 3
   },
   "file_extension": ".py",
   "mimetype": "text/x-python",
   "name": "python",
   "nbconvert_exporter": "python",
   "pygments_lexer": "ipython3",
   "version": "3.11.5"
  }
 },
 "nbformat": 4,
 "nbformat_minor": 5
}
