{
 "cells": [
  {
   "cell_type": "markdown",
   "id": "bd1bc574",
   "metadata": {},
   "source": [
    "### Task 1: Binary Representations"
   ]
  },
  {
   "cell_type": "code",
   "execution_count": 1,
   "id": "48d59248",
   "metadata": {},
   "outputs": [],
   "source": [
    "# Importing necessary module for 32-bit operations\n",
    "import numpy as np\n",
    "\n",
    "# ROTATE LEFT\n",
    "def rotl(x, n=1):\n",
    "    \"\"\"Rotate left (circular shift) a 32-bit unsigned integer x by n bits.\"\"\"\n",
    "    return ((x << n) | (x >> (32 - n))) & 0xFFFFFFFF\n",
    "\n",
    "# ROTATE RIGHT\n",
    "def rotr(x, n=1):\n",
    "    \"\"\"Rotate right (circular shift) a 32-bit unsigned integer x by n bits.\"\"\"\n",
    "    return ((x >> n) | (x << (32 - n))) & 0xFFFFFFFF\n",
    "\n",
    "# CHOOSE FUNCTION\n",
    "def ch(x, y, z):\n",
    "    \"\"\"\n",
    "    For each bit position:\n",
    "    - Choose bit from y if bit in x is 1\n",
    "    - Choose bit from z if bit in x is 0\n",
    "    \"\"\"\n",
    "    return (x & y) ^ (~x & z) & 0xFFFFFFFF\n",
    "\n",
    "# MAJORITY FUNCTION\n",
    "def maj(x, y, z):\n",
    "    \"\"\"\n",
    "    For each bit position, return 1 if at least two of the bits in x, y, z are 1.\n",
    "    \"\"\"\n",
    "    return ((x & y) ^ (x & z) ^ (y & z)) & 0xFFFFFFFF\n"
   ]
  },
  {
   "cell_type": "markdown",
   "id": "bf6ee60f",
   "metadata": {},
   "source": [
    "### Task 2: Hash Functions"
   ]
  },
  {
   "cell_type": "markdown",
   "id": "798801d2",
   "metadata": {},
   "source": [
    "### Task 3: SHA256"
   ]
  },
  {
   "cell_type": "markdown",
   "id": "ee5b8e78",
   "metadata": {},
   "source": [
    "### Task 4: Prime Numbers"
   ]
  },
  {
   "cell_type": "markdown",
   "id": "a11d8b07",
   "metadata": {},
   "source": [
    "### Task 5: Roots"
   ]
  },
  {
   "cell_type": "markdown",
   "id": "ab07e310",
   "metadata": {},
   "source": [
    "### Task 6: Proof of work"
   ]
  },
  {
   "cell_type": "markdown",
   "id": "0d527067",
   "metadata": {},
   "source": [
    "### Task 7: Turing Machines"
   ]
  },
  {
   "cell_type": "markdown",
   "id": "c38ceca7",
   "metadata": {},
   "source": [
    "### Task 8: Computational Complexity"
   ]
  }
 ],
 "metadata": {
  "kernelspec": {
   "display_name": "Python 3 (ipykernel)",
   "language": "python",
   "name": "python3"
  },
  "language_info": {
   "codemirror_mode": {
    "name": "ipython",
    "version": 3
   },
   "file_extension": ".py",
   "mimetype": "text/x-python",
   "name": "python",
   "nbconvert_exporter": "python",
   "pygments_lexer": "ipython3",
   "version": "3.11.5"
  }
 },
 "nbformat": 4,
 "nbformat_minor": 5
}
