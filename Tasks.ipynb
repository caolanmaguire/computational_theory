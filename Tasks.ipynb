{
 "cells": [
  {
   "cell_type": "markdown",
   "id": "23c714b5",
   "metadata": {},
   "source": [
    "### Task 1: Binary Representations"
   ]
  },
  {
   "cell_type": "markdown",
   "id": "553de109",
   "metadata": {},
   "source": [
    "### Task 2: Hash Functions"
   ]
  },
  {
   "cell_type": "markdown",
   "id": "9442de0b",
   "metadata": {},
   "source": [
    "### Task 3: SHA256"
   ]
  },
  {
   "cell_type": "markdown",
   "id": "2ebb088f",
   "metadata": {},
   "source": [
    "### Task 4: Prime Numbers"
   ]
  },
  {
   "cell_type": "markdown",
   "id": "13e47693",
   "metadata": {},
   "source": [
    "### Task 5: Roots"
   ]
  },
  {
   "cell_type": "markdown",
   "id": "c3998f32",
   "metadata": {},
   "source": [
    "### Task 6: Turing Machines"
   ]
  }
 ],
 "metadata": {
  "kernelspec": {
   "display_name": "Python 3 (ipykernel)",
   "language": "python",
   "name": "python3"
  },
  "language_info": {
   "codemirror_mode": {
    "name": "ipython",
    "version": 3
   },
   "file_extension": ".py",
   "mimetype": "text/x-python",
   "name": "python",
   "nbconvert_exporter": "python",
   "pygments_lexer": "ipython3",
   "version": "3.11.5"
  }
 },
 "nbformat": 4,
 "nbformat_minor": 5
}
