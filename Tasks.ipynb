{
 "cells": [
  {
   "cell_type": "markdown",
   "id": "bd1bc574",
   "metadata": {},
   "source": [
    "### Task 1: Binary Representations"
   ]
  },
  {
   "cell_type": "markdown",
   "id": "bf6ee60f",
   "metadata": {},
   "source": [
    "### Task 2: Hash Functions"
   ]
  },
  {
   "cell_type": "markdown",
   "id": "798801d2",
   "metadata": {},
   "source": [
    "### Task 3: SHA256"
   ]
  },
  {
   "cell_type": "markdown",
   "id": "ee5b8e78",
   "metadata": {},
   "source": [
    "### Task 4: Prime Numbers"
   ]
  },
  {
   "cell_type": "markdown",
   "id": "a11d8b07",
   "metadata": {},
   "source": [
    "### Task 5: Roots"
   ]
  },
  {
   "cell_type": "markdown",
   "id": "ab07e310",
   "metadata": {},
   "source": [
    "### Task 6: Proof of work"
   ]
  },
  {
   "cell_type": "markdown",
   "id": "0d527067",
   "metadata": {},
   "source": [
    "### Task 7: Turing Machines"
   ]
  },
  {
   "cell_type": "markdown",
   "id": "c38ceca7",
   "metadata": {},
   "source": [
    "### Task 8: Computational Complexity"
   ]
  }
 ],
 "metadata": {
  "kernelspec": {
   "display_name": "Python 3 (ipykernel)",
   "language": "python",
   "name": "python3"
  },
  "language_info": {
   "codemirror_mode": {
    "name": "ipython",
    "version": 3
   },
   "file_extension": ".py",
   "mimetype": "text/x-python",
   "name": "python",
   "nbconvert_exporter": "python",
   "pygments_lexer": "ipython3",
   "version": "3.11.5"
  }
 },
 "nbformat": 4,
 "nbformat_minor": 5
}
